{
 "cells": [
  {
   "cell_type": "code",
   "execution_count": 4,
   "id": "596ace55-b04f-4d92-90c5-a25c0853b72f",
   "metadata": {},
   "outputs": [],
   "source": [
    "import os\n",
    "import pandas as pd\n",
    "from matplotlib import pyplot as plt\n",
    "import random\n",
    "\n",
    "from trainer.maskdataloader import CustomDataset\n",
    "\n",
    "def plot_fbank(fbank, title=None, save_path=None):\n",
    "    fig, axs = plt.subplots(1, 1)\n",
    "    fig.set_figheight(4)\n",
    "    fig.set_figwidth(8)\n",
    "    axs.set_title(title or \"Filter bank\")\n",
    "    cax1 = axs.imshow(fbank, aspect=\"auto\", origin=\"lower\", cmap='inferno')\n",
    "    axs.set_ylabel(\"Frequency\")\n",
    "    axs.set_xlabel(\"Time\")\n",
    "    fig.colorbar(cax1, ax=axs, orientation='vertical', label='Intensity')\n",
    "    if save_path:\n",
    "        plt.tight_layout()\n",
    "        plt.savefig(save_path)\n",
    "        plt.close()\n",
    "    "
   ]
  },
  {
   "cell_type": "markdown",
   "id": "6c4851f5-db2c-4cbc-8902-a42e2cb0d019",
   "metadata": {},
   "source": [
    "# read and save anomlaous spectrograms"
   ]
  },
  {
   "cell_type": "code",
   "execution_count": 6,
   "id": "0e33a187-0088-4f8f-8399-a4f30f9513c4",
   "metadata": {},
   "outputs": [
    {
     "name": "stdout",
     "output_type": "stream",
     "text": [
      "105\n",
      "Saved CSV to: saved_anomalous_spectrograms/anomaly_spectrogram_metadata.csv\n"
     ]
    }
   ],
   "source": [
    "patchsize= 4\n",
    "maskratio=0.3\n",
    "\n",
    "\n",
    "d_anomalies = CustomDataset([\n",
    "    \"data/evaluation/anomalies/broken_board/\",\n",
    "    \"data/evaluation/anomalies/board_stuck/\",\n",
    "    \"data/evaluation/anomalies/Uneven_thick_wood/\",\n",
    "], patch_size=(patchsize, patchsize), mask_ratio=maskratio, fixed_masking=True, return_directory=True)\n",
    "\n",
    "print(len(d_anomalies))\n",
    "\n",
    "####DATA LABELLING####\n",
    "# save data and corresponding file names in csv\n",
    "records = []\n",
    "\n",
    "# Paths\n",
    "save_img_dir = \"saved_anomalous_spectrograms/\"\n",
    "os.makedirs(save_img_dir, exist_ok=True)\n",
    "csv_path = os.path.join(save_img_dir, \"anomaly_spectrogram_metadata.csv\")\n",
    "\n",
    "for idx in range(len(d_anomalies)):\n",
    "    (_, (spec, _)), filepath = d_anomalies[idx]\n",
    "    filename = os.path.basename(filepath)\n",
    "    file_id = os.path.splitext(filename)[0]\n",
    "\n",
    "    # Parse name parts\n",
    "    parts = file_id.split(\"_\")\n",
    "    recording_name = \"_\".join(parts[:-1])\n",
    "    spectrogram_number = int(parts[-1]) # convert to int for sorting and time calc\n",
    "\n",
    "    # Derive board type from parent folder\n",
    "    board_type = os.path.basename(os.path.dirname(filepath))\n",
    "\n",
    "    # Map number to time range\n",
    "    time_range = f\"{(spectrogram_number - 1) * 10}-{spectrogram_number * 10} seconds\"\n",
    "\n",
    "    # Save spectrogram image\n",
    "    image_path = os.path.join(save_img_dir, f\"{file_id}.png\")\n",
    "    plot_fbank(spec.numpy(), title=f\"{recording_name} #{spectrogram_number}\", save_path=image_path)\n",
    "\n",
    "    # Add row to CSV\n",
    "    records.append({\n",
    "        \"Recording wav File\": recording_name+\".wav\",\n",
    "        \"Spectrogram File Name\": filename.replace(\".pt\", \"\"),\n",
    "        \"Spectrogram Number\": str(spectrogram_number),\n",
    "        \"Spectrogram Time Range\": time_range,\n",
    "        \"Board (Anomaly) Type\": board_type,\n",
    "        \"Input Spectrogram\": \"\",  # left empty for manual image insertion\n",
    "        \"Time Anomaly Labels\": \"\", # left empty for manual labelling\n",
    "        \"Masked Labelled Spectrogram\": \"\" # left empty for manual image insertion\n",
    "    })\n",
    "\n",
    "# Sort and save\n",
    "df = pd.DataFrame(records)\n",
    "df = df.sort_values(by=[\"Recording wav File\", \"Spectrogram Number\"]).reset_index(drop=True)\n",
    "df[\"Spectrogram Number\"] = df[\"Spectrogram Number\"].astype(str)\n",
    "df.to_csv(csv_path, index=False)\n",
    "\n",
    "print(f\"Saved CSV to: {csv_path}\")\n",
    "\n"
   ]
  },
  {
   "cell_type": "code",
   "execution_count": 7,
   "id": "9abcc8d9-fc1d-4ee1-a221-fed014e26455",
   "metadata": {},
   "outputs": [
    {
     "name": "stdout",
     "output_type": "stream",
     "text": [
      "data/evaluation/anomalies/Uneven_thick_wood/MPD_19-12-04_1119_00157_2.pt 105\n"
     ]
    }
   ],
   "source": [
    "print(filepath, len(df))"
   ]
  },
  {
   "cell_type": "code",
   "execution_count": null,
   "id": "9e05a1a7-641d-45bf-9aca-073b0b815854",
   "metadata": {},
   "outputs": [],
   "source": []
  }
 ],
 "metadata": {
  "kernelspec": {
   "display_name": "Python 3.8",
   "language": "python",
   "name": "python3"
  },
  "language_info": {
   "codemirror_mode": {
    "name": "ipython",
    "version": 3
   },
   "file_extension": ".py",
   "mimetype": "text/x-python",
   "name": "python",
   "nbconvert_exporter": "python",
   "pygments_lexer": "ipython3",
   "version": "3.8.2"
  }
 },
 "nbformat": 4,
 "nbformat_minor": 5
}
